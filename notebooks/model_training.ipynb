{
 "cells": [
  {
   "cell_type": "code",
   "execution_count": 4,
   "id": "d6206e66",
   "metadata": {},
   "outputs": [],
   "source": [
    "import keras\n",
    "import pandas as pd\n",
    "from keras import layers, Sequential\n",
    "import argparse\n",
    "from sklearn.model_selection import train_test_split\n",
    "from matplotlib import pyplot as plt\n",
    "import os"
   ]
  },
  {
   "cell_type": "code",
   "execution_count": 2,
   "id": "0a908549",
   "metadata": {},
   "outputs": [],
   "source": [
    "csv_path='yoga-pose-image-classification-dataset/dataset/Beginners/yoga_pose.csv'"
   ]
  },
  {
   "cell_type": "code",
   "execution_count": 5,
   "id": "40d99ebb",
   "metadata": {},
   "outputs": [],
   "source": [
    "# Load .csv Data\n",
    "df = pd.read_csv(csv_path)\n",
    "class_list = df['Yoga_Pose'].unique()\n",
    "class_list = sorted(class_list)\n",
    "class_number = len(class_list)\n",
    "\n",
    "# Create training and validation splits\n",
    "x = df.copy()\n",
    "y = x.pop('Yoga_Pose')\n",
    "y, _ = y.factorize()\n",
    "x = x.astype('float64')\n",
    "y = keras.utils.to_categorical(y)"
   ]
  },
  {
   "cell_type": "code",
   "execution_count": 7,
   "id": "a2258cd3",
   "metadata": {},
   "outputs": [
    {
     "data": {
      "text/plain": [
       "(635, 133)"
      ]
     },
     "execution_count": 7,
     "metadata": {},
     "output_type": "execute_result"
    }
   ],
   "source": [
    "df.shape"
   ]
  },
  {
   "cell_type": "code",
   "execution_count": 8,
   "id": "26824bd2",
   "metadata": {},
   "outputs": [],
   "source": [
    "# Split training data (X, y) into (X_train, y_train) and (X_val, y_val)\n",
    "x_train, x_val, y_train, y_val = train_test_split(x, y,\n",
    "                                                  test_size=0.15)"
   ]
  },
  {
   "cell_type": "code",
   "execution_count": 9,
   "id": "f34c2a8a",
   "metadata": {},
   "outputs": [
    {
     "name": "stdout",
     "output_type": "stream",
     "text": [
      "[INFO] Loaded csv Dataset\n",
      "Model: \"sequential\"\n",
      "_________________________________________________________________\n",
      " Layer (type)                Output Shape              Param #   \n",
      "=================================================================\n",
      " dense (Dense)               (None, 512)               68096     \n",
      "                                                                 \n",
      " dense_1 (Dense)             (None, 256)               131328    \n",
      "                                                                 \n",
      " dense_2 (Dense)             (None, 29)                7453      \n",
      "                                                                 \n",
      "=================================================================\n",
      "Total params: 206877 (808.11 KB)\n",
      "Trainable params: 206877 (808.11 KB)\n",
      "Non-trainable params: 0 (0.00 Byte)\n",
      "_________________________________________________________________\n",
      "Model Summary:  None\n"
     ]
    }
   ],
   "source": [
    "print('[INFO] Loaded csv Dataset')\n",
    "\n",
    "model = Sequential([\n",
    "    layers.Dense(512, activation='relu', input_shape=[x_train.shape[1]]),\n",
    "    layers.Dense(256, activation='relu'),\n",
    "    layers.Dense(class_number, activation=\"softmax\")\n",
    "])\n",
    "\n",
    "# Model Summary\n",
    "print('Model Summary: ', model.summary())\n"
   ]
  },
  {
   "cell_type": "code",
   "execution_count": 10,
   "id": "070bcbd2",
   "metadata": {},
   "outputs": [],
   "source": [
    "\n",
    "model.compile(\n",
    "    optimizer='adam',\n",
    "    loss='categorical_crossentropy',\n",
    "    metrics=['accuracy']\n",
    ")"
   ]
  },
  {
   "cell_type": "code",
   "execution_count": 14,
   "id": "0ce3157a",
   "metadata": {},
   "outputs": [
    {
     "name": "stdout",
     "output_type": "stream",
     "text": [
      "[INFO] Model Training Started ...\n"
     ]
    }
   ],
   "source": [
    "checkpoint_path = \"yoga-pose-image-classification-dataset/dataset/Beginners\"\n",
    "checkpoint = keras.callbacks.ModelCheckpoint(checkpoint_path,\n",
    "                                             monitor='val_accuracy',\n",
    "                                             verbose=1,\n",
    "                                             save_best_only=True,\n",
    "                                             mode='max')\n",
    "earlystopping = keras.callbacks.EarlyStopping(monitor='val_accuracy',\n",
    "                                              patience=20)\n",
    "\n",
    "print('[INFO] Model Training Started ...')\n"
   ]
  },
  {
   "cell_type": "code",
   "execution_count": 20,
   "id": "e32aaee8",
   "metadata": {},
   "outputs": [
    {
     "name": "stdout",
     "output_type": "stream",
     "text": [
      "Epoch 1/200\n",
      " 1/17 [>.............................] - ETA: 0s - loss: 0.0371 - accuracy: 1.0000\n",
      "Epoch 1: val_accuracy did not improve from 0.37500\n",
      "17/17 [==============================] - 0s 12ms/step - loss: 0.0963 - accuracy: 0.9666 - val_loss: 4.7546 - val_accuracy: 0.3333\n",
      "Epoch 2/200\n",
      " 1/17 [>.............................] - ETA: 0s - loss: 0.0266 - accuracy: 1.0000\n",
      "Epoch 2: val_accuracy did not improve from 0.37500\n",
      "17/17 [==============================] - 0s 3ms/step - loss: 0.0604 - accuracy: 0.9833 - val_loss: 4.7177 - val_accuracy: 0.3438\n",
      "Epoch 3/200\n",
      " 1/17 [>.............................] - ETA: 0s - loss: 0.0337 - accuracy: 1.0000\n",
      "Epoch 3: val_accuracy did not improve from 0.37500\n",
      "17/17 [==============================] - 0s 3ms/step - loss: 0.0546 - accuracy: 0.9833 - val_loss: 4.7005 - val_accuracy: 0.3333\n",
      "Epoch 4/200\n",
      " 1/17 [>.............................] - ETA: 0s - loss: 0.0351 - accuracy: 1.0000\n",
      "Epoch 4: val_accuracy did not improve from 0.37500\n",
      "17/17 [==============================] - 0s 3ms/step - loss: 0.0467 - accuracy: 0.9833 - val_loss: 4.7537 - val_accuracy: 0.3438\n",
      "Epoch 5/200\n",
      " 1/17 [>.............................] - ETA: 0s - loss: 0.0227 - accuracy: 1.0000\n",
      "Epoch 5: val_accuracy did not improve from 0.37500\n",
      "17/17 [==============================] - 0s 3ms/step - loss: 0.0500 - accuracy: 0.9852 - val_loss: 4.7633 - val_accuracy: 0.3333\n",
      "Epoch 6/200\n",
      " 1/17 [>.............................] - ETA: 0s - loss: 0.0262 - accuracy: 1.0000\n",
      "Epoch 6: val_accuracy did not improve from 0.37500\n",
      "17/17 [==============================] - 0s 3ms/step - loss: 0.0424 - accuracy: 0.9889 - val_loss: 4.8267 - val_accuracy: 0.3125\n",
      "Epoch 7/200\n",
      " 1/17 [>.............................] - ETA: 0s - loss: 0.0494 - accuracy: 0.9697\n",
      "Epoch 7: val_accuracy did not improve from 0.37500\n",
      "17/17 [==============================] - 0s 3ms/step - loss: 0.0397 - accuracy: 0.9889 - val_loss: 4.8298 - val_accuracy: 0.3333\n",
      "Epoch 8/200\n",
      " 1/17 [>.............................] - ETA: 0s - loss: 0.0877 - accuracy: 0.9697\n",
      "Epoch 8: val_accuracy did not improve from 0.37500\n",
      "17/17 [==============================] - 0s 3ms/step - loss: 0.0404 - accuracy: 0.9889 - val_loss: 4.8440 - val_accuracy: 0.3542\n",
      "Epoch 9/200\n",
      " 1/17 [>.............................] - ETA: 0s - loss: 0.0083 - accuracy: 1.0000\n",
      "Epoch 9: val_accuracy did not improve from 0.37500\n",
      "17/17 [==============================] - 0s 3ms/step - loss: 0.0360 - accuracy: 0.9889 - val_loss: 4.8637 - val_accuracy: 0.3125\n",
      "Epoch 10/200\n",
      " 1/17 [>.............................] - ETA: 0s - loss: 0.0192 - accuracy: 1.0000\n",
      "Epoch 10: val_accuracy did not improve from 0.37500\n",
      "17/17 [==============================] - 0s 3ms/step - loss: 0.0375 - accuracy: 0.9889 - val_loss: 4.9049 - val_accuracy: 0.3229\n",
      "Epoch 11/200\n",
      " 1/17 [>.............................] - ETA: 0s - loss: 0.0064 - accuracy: 1.0000\n",
      "Epoch 11: val_accuracy did not improve from 0.37500\n",
      "17/17 [==============================] - 0s 3ms/step - loss: 0.0340 - accuracy: 0.9926 - val_loss: 4.8934 - val_accuracy: 0.3333\n",
      "Epoch 12/200\n",
      " 1/17 [>.............................] - ETA: 0s - loss: 0.0618 - accuracy: 0.9697\n",
      "Epoch 12: val_accuracy did not improve from 0.37500\n",
      "17/17 [==============================] - 0s 3ms/step - loss: 0.0368 - accuracy: 0.9889 - val_loss: 4.9293 - val_accuracy: 0.3125\n",
      "Epoch 13/200\n",
      " 1/17 [>.............................] - ETA: 0s - loss: 0.0075 - accuracy: 1.0000\n",
      "Epoch 13: val_accuracy did not improve from 0.37500\n",
      "17/17 [==============================] - 0s 3ms/step - loss: 0.0386 - accuracy: 0.9926 - val_loss: 4.9605 - val_accuracy: 0.3229\n",
      "Epoch 14/200\n",
      " 1/17 [>.............................] - ETA: 0s - loss: 0.0413 - accuracy: 1.0000\n",
      "Epoch 14: val_accuracy did not improve from 0.37500\n",
      "17/17 [==============================] - 0s 3ms/step - loss: 0.0385 - accuracy: 0.9907 - val_loss: 4.9409 - val_accuracy: 0.3125\n",
      "Epoch 15/200\n",
      " 1/17 [>.............................] - ETA: 0s - loss: 0.0490 - accuracy: 0.9697\n",
      "Epoch 15: val_accuracy did not improve from 0.37500\n",
      "17/17 [==============================] - 0s 3ms/step - loss: 0.0358 - accuracy: 0.9870 - val_loss: 4.9720 - val_accuracy: 0.3021\n",
      "Epoch 16/200\n",
      " 1/17 [>.............................] - ETA: 0s - loss: 0.0095 - accuracy: 1.0000\n",
      "Epoch 16: val_accuracy did not improve from 0.37500\n",
      "17/17 [==============================] - 0s 3ms/step - loss: 0.0421 - accuracy: 0.9870 - val_loss: 4.9838 - val_accuracy: 0.3333\n",
      "Epoch 17/200\n",
      " 1/17 [>.............................] - ETA: 0s - loss: 0.0148 - accuracy: 1.0000\n",
      "Epoch 17: val_accuracy did not improve from 0.37500\n",
      "17/17 [==============================] - 0s 3ms/step - loss: 0.0370 - accuracy: 0.9944 - val_loss: 5.0224 - val_accuracy: 0.3333\n",
      "Epoch 18/200\n",
      " 1/17 [>.............................] - ETA: 0s - loss: 0.0602 - accuracy: 0.9697\n",
      "Epoch 18: val_accuracy did not improve from 0.37500\n",
      "17/17 [==============================] - 0s 3ms/step - loss: 0.0477 - accuracy: 0.9833 - val_loss: 4.9568 - val_accuracy: 0.3229\n",
      "Epoch 19/200\n",
      " 1/17 [>.............................] - ETA: 0s - loss: 0.0090 - accuracy: 1.0000\n",
      "Epoch 19: val_accuracy did not improve from 0.37500\n",
      "17/17 [==============================] - 0s 3ms/step - loss: 0.0368 - accuracy: 0.9833 - val_loss: 4.9909 - val_accuracy: 0.3125\n",
      "Epoch 20/200\n",
      " 1/17 [>.............................] - ETA: 0s - loss: 0.0222 - accuracy: 1.0000\n",
      "Epoch 20: val_accuracy did not improve from 0.37500\n",
      "17/17 [==============================] - 0s 3ms/step - loss: 0.0379 - accuracy: 0.9870 - val_loss: 5.0162 - val_accuracy: 0.3125\n",
      "Epoch 21/200\n",
      " 1/17 [>.............................] - ETA: 0s - loss: 0.0147 - accuracy: 1.0000\n",
      "Epoch 21: val_accuracy did not improve from 0.37500\n",
      "17/17 [==============================] - 0s 3ms/step - loss: 0.0324 - accuracy: 0.9907 - val_loss: 4.9976 - val_accuracy: 0.3438\n",
      "Epoch 22/200\n",
      " 1/17 [>.............................] - ETA: 0s - loss: 0.0125 - accuracy: 1.0000\n",
      "Epoch 22: val_accuracy did not improve from 0.37500\n",
      "17/17 [==============================] - 0s 3ms/step - loss: 0.0290 - accuracy: 0.9926 - val_loss: 5.0491 - val_accuracy: 0.3229\n",
      "Epoch 23/200\n",
      " 1/17 [>.............................] - ETA: 0s - loss: 0.0570 - accuracy: 0.9697\n",
      "Epoch 23: val_accuracy did not improve from 0.37500\n",
      "17/17 [==============================] - 0s 3ms/step - loss: 0.0268 - accuracy: 0.9963 - val_loss: 5.0471 - val_accuracy: 0.3333\n",
      "Epoch 24/200\n",
      " 1/17 [>.............................] - ETA: 0s - loss: 0.0200 - accuracy: 1.0000\n",
      "Epoch 24: val_accuracy did not improve from 0.37500\n",
      "17/17 [==============================] - 0s 3ms/step - loss: 0.0359 - accuracy: 0.9889 - val_loss: 5.1126 - val_accuracy: 0.3125\n",
      "Epoch 25/200\n",
      " 1/17 [>.............................] - ETA: 0s - loss: 0.0171 - accuracy: 1.0000\n",
      "Epoch 25: val_accuracy did not improve from 0.37500\n",
      "17/17 [==============================] - 0s 3ms/step - loss: 0.0286 - accuracy: 0.9944 - val_loss: 5.0640 - val_accuracy: 0.3229\n",
      "Epoch 26/200\n",
      " 1/17 [>.............................] - ETA: 0s - loss: 0.0437 - accuracy: 0.9697\n",
      "Epoch 26: val_accuracy did not improve from 0.37500\n",
      "17/17 [==============================] - 0s 3ms/step - loss: 0.0392 - accuracy: 0.9870 - val_loss: 5.1639 - val_accuracy: 0.3333\n",
      "Epoch 27/200\n",
      " 1/17 [>.............................] - ETA: 0s - loss: 0.0788 - accuracy: 0.9697\n",
      "Epoch 27: val_accuracy did not improve from 0.37500\n",
      "17/17 [==============================] - 0s 3ms/step - loss: 0.0485 - accuracy: 0.9889 - val_loss: 5.0673 - val_accuracy: 0.3333\n",
      "Epoch 28/200\n",
      " 1/17 [>.............................] - ETA: 0s - loss: 0.0296 - accuracy: 1.0000\n",
      "Epoch 28: val_accuracy did not improve from 0.37500\n",
      "17/17 [==============================] - 0s 3ms/step - loss: 0.0432 - accuracy: 0.9852 - val_loss: 5.0862 - val_accuracy: 0.3125\n",
      "[INFO] Model Training Completed\n"
     ]
    },
    {
     "data": {
      "text/plain": [
       "33"
      ]
     },
     "execution_count": 20,
     "metadata": {},
     "output_type": "execute_result"
    }
   ],
   "source": [
    "history = model.fit(x_train, y_train,\n",
    "                    epochs=200,\n",
    "                    batch_size=33,\n",
    "                    validation_data=(x_val, y_val),\n",
    "                    callbacks=[checkpoint,earlystopping])\n",
    "\n",
    "print('[INFO] Model Training Completed')\n",
    "\n",
    "\n"
   ]
  },
  {
   "cell_type": "code",
   "execution_count": 21,
   "id": "d9a3c1dd",
   "metadata": {},
   "outputs": [],
   "source": [
    "# Plot History\n",
    "metric_loss = history.history['loss']\n",
    "metric_val_loss = history.history['val_loss']\n",
    "metric_accuracy = history.history['accuracy']\n",
    "metric_val_accuracy = history.history['val_accuracy']\n",
    "\n"
   ]
  },
  {
   "cell_type": "code",
   "execution_count": 22,
   "id": "0dd8da8d",
   "metadata": {},
   "outputs": [],
   "source": [
    "# Construct a range object which will be used as x-axis (horizontal plane) of the graph.\n",
    "epochs = range(len(metric_loss))"
   ]
  },
  {
   "cell_type": "code",
   "execution_count": 23,
   "id": "abbf7302",
   "metadata": {},
   "outputs": [
    {
     "name": "stdout",
     "output_type": "stream",
     "text": [
      "[INFO] Successfully Saved metrics.png\n"
     ]
    },
    {
     "data": {
      "image/png": "[encoded data removed]",
      "text/plain": [
       "<Figure size 640x480 with 1 Axes>"
      ]
     },
     "metadata": {},
     "output_type": "display_data"
    }
   ],
   "source": [
    "\n",
    "\n",
    "# Plot the Graph.\n",
    "plt.plot(epochs, metric_loss, 'blue', label=metric_loss)\n",
    "plt.plot(epochs, metric_val_loss, 'red', label=metric_val_loss)\n",
    "plt.plot(epochs, metric_accuracy, 'blue', label=metric_accuracy)\n",
    "plt.plot(epochs, metric_val_accuracy, 'green', label=metric_val_accuracy)\n",
    "\n",
    "# Add title to the plot.\n",
    "plt.title(str('Model Metrics'))\n",
    "\n",
    "# Add legend to the plot.\n",
    "plt.legend(['loss', 'val_loss', 'accuracy', 'val_accuracy'])\n",
    "\n",
    "# If the plot already exist, remove\n",
    "plot_png = os.path.exists('metrics.png')\n",
    "if plot_png:\n",
    "    os.remove('metrics.png')\n",
    "    plt.savefig('metrics.png', bbox_inches='tight')\n",
    "else:\n",
    "    plt.savefig('metrics.png', bbox_inches='tight')\n",
    "print('[INFO] Successfully Saved metrics.png')"
   ]
  },
  {
   "cell_type": "code",
   "execution_count": null,
   "id": "9e43b7e6",
   "metadata": {},
   "outputs": [],
   "source": []
  }
 ],
 "metadata": {
  "kernelspec": {
   "display_name": "Python 3 (ipykernel)",
   "language": "python",
   "name": "python3"
  },
  "language_info": {
   "codemirror_mode": {
    "name": "ipython",
    "version": 3
   },
   "file_extension": ".py",
   "mimetype": "text/x-python",
   "name": "python",
   "nbconvert_exporter": "python",
   "pygments_lexer": "ipython3",
   "version": "3.11.4"
  }
 },
 "nbformat": 4,
 "nbformat_minor": 5
}
